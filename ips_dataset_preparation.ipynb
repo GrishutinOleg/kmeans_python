{
 "cells": [
  {
   "cell_type": "code",
   "execution_count": null,
   "id": "3434a599",
   "metadata": {},
   "outputs": [],
   "source": [
    "# использован датасет Kaggle\n",
    "# Labeled Network Traffic flows - 141 Applications\n",
    "# https://www.kaggle.com/datasets/jsrojas/labeled-network-traffic-flows-114-applications"
   ]
  },
  {
   "cell_type": "code",
   "execution_count": 1,
   "id": "0d0aa164",
   "metadata": {},
   "outputs": [],
   "source": [
    "import datetime\n",
    "import pandas as pd\n",
    "import numpy as np\n",
    "\n",
    "import matplotlib as plt\n",
    "import matplotlib.pyplot as pyplot\n",
    "\n",
    "from sklearn.decomposition import PCA"
   ]
  },
  {
   "cell_type": "code",
   "execution_count": 2,
   "id": "566fd0fb",
   "metadata": {},
   "outputs": [
    {
     "name": "stdout",
     "output_type": "stream",
     "text": [
      "['application_protocol', 'avg_piat', 'avg_ps', 'b_avg_piat', 'b_avg_ps', 'b_flowDuration', 'b_flowEnd', 'b_flowStart', 'b_max_piat', 'b_max_ps', 'b_min_piat', 'b_min_ps', 'b_octetTotalCount', 'b_pktTotalCount', 'b_std_dev_piat', 'b_std_dev_ps', 'category', 'dst_ip', 'dst_port', 'f_avg_piat', 'f_avg_ps', 'f_flowDuration', 'f_flowEnd', 'f_flowStart', 'f_max_piat', 'f_max_ps', 'f_min_piat', 'f_min_ps', 'f_octetTotalCount', 'f_pktTotalCount', 'f_std_dev_piat', 'f_std_dev_ps', 'flowDuration', 'flowEnd', 'flowEndReason', 'flowStart', 'flow_key', 'max_piat', 'max_ps', 'min_piat', 'min_ps', 'octetTotalCount', 'pktTotalCount', 'proto', 'src_ip', 'src_ip_numeric', 'src_port', 'std_dev_piat', 'std_dev_ps', 'web_service']\n",
      "(2704839, 50)\n"
     ]
    }
   ],
   "source": [
    "df_file = \"Unicauca-dataset-April-June-2019-Network-flows.csv\"\n",
    "\n",
    "df = pd.read_csv(df_file)\n",
    "\n",
    "print(sorted(df.columns))\n",
    "print(df.shape)"
   ]
  },
  {
   "cell_type": "code",
   "execution_count": 3,
   "id": "70746cd3",
   "metadata": {},
   "outputs": [
    {
     "data": {
      "text/html": [
       "<div>\n",
       "<style scoped>\n",
       "    .dataframe tbody tr th:only-of-type {\n",
       "        vertical-align: middle;\n",
       "    }\n",
       "\n",
       "    .dataframe tbody tr th {\n",
       "        vertical-align: top;\n",
       "    }\n",
       "\n",
       "    .dataframe thead th {\n",
       "        text-align: right;\n",
       "    }\n",
       "</style>\n",
       "<table border=\"1\" class=\"dataframe\">\n",
       "  <thead>\n",
       "    <tr style=\"text-align: right;\">\n",
       "      <th></th>\n",
       "      <th>flow_key</th>\n",
       "      <th>src_ip_numeric</th>\n",
       "      <th>src_ip</th>\n",
       "      <th>src_port</th>\n",
       "      <th>dst_ip</th>\n",
       "      <th>dst_port</th>\n",
       "      <th>proto</th>\n",
       "      <th>pktTotalCount</th>\n",
       "      <th>octetTotalCount</th>\n",
       "      <th>min_ps</th>\n",
       "      <th>...</th>\n",
       "      <th>b_flowEnd</th>\n",
       "      <th>b_flowDuration</th>\n",
       "      <th>b_min_piat</th>\n",
       "      <th>b_max_piat</th>\n",
       "      <th>b_avg_piat</th>\n",
       "      <th>b_std_dev_piat</th>\n",
       "      <th>flowEndReason</th>\n",
       "      <th>category</th>\n",
       "      <th>application_protocol</th>\n",
       "      <th>web_service</th>\n",
       "    </tr>\n",
       "  </thead>\n",
       "  <tbody>\n",
       "    <tr>\n",
       "      <th>0</th>\n",
       "      <td>3acee4f4ea001cd5e6d9584d4036b53d</td>\n",
       "      <td>3232266497</td>\n",
       "      <td>192.168.121.1</td>\n",
       "      <td>67</td>\n",
       "      <td>172.16.255.185</td>\n",
       "      <td>67</td>\n",
       "      <td>17</td>\n",
       "      <td>22</td>\n",
       "      <td>7620</td>\n",
       "      <td>328</td>\n",
       "      <td>...</td>\n",
       "      <td>1.555955e+09</td>\n",
       "      <td>1.554399e+12</td>\n",
       "      <td>0.010354</td>\n",
       "      <td>198.657965</td>\n",
       "      <td>51.689181</td>\n",
       "      <td>84.916348</td>\n",
       "      <td>2</td>\n",
       "      <td>Network</td>\n",
       "      <td>Unknown</td>\n",
       "      <td>DHCP</td>\n",
       "    </tr>\n",
       "    <tr>\n",
       "      <th>1</th>\n",
       "      <td>974ec5991b439c9a7176b88be0c90df0</td>\n",
       "      <td>3232266497</td>\n",
       "      <td>192.168.121.1</td>\n",
       "      <td>67</td>\n",
       "      <td>172.16.255.186</td>\n",
       "      <td>67</td>\n",
       "      <td>17</td>\n",
       "      <td>17</td>\n",
       "      <td>5670</td>\n",
       "      <td>328</td>\n",
       "      <td>...</td>\n",
       "      <td>0.000000e+00</td>\n",
       "      <td>0.000000e+00</td>\n",
       "      <td>0.000000</td>\n",
       "      <td>0.000000</td>\n",
       "      <td>0.000000</td>\n",
       "      <td>0.000000</td>\n",
       "      <td>2</td>\n",
       "      <td>Network</td>\n",
       "      <td>Unknown</td>\n",
       "      <td>DHCP</td>\n",
       "    </tr>\n",
       "    <tr>\n",
       "      <th>2</th>\n",
       "      <td>3acee4f4ea001cd5e6d9584d4036b53d</td>\n",
       "      <td>3232266497</td>\n",
       "      <td>192.168.121.1</td>\n",
       "      <td>67</td>\n",
       "      <td>172.16.255.185</td>\n",
       "      <td>67</td>\n",
       "      <td>17</td>\n",
       "      <td>43</td>\n",
       "      <td>15124</td>\n",
       "      <td>328</td>\n",
       "      <td>...</td>\n",
       "      <td>1.555965e+09</td>\n",
       "      <td>1.554409e+12</td>\n",
       "      <td>0.022332</td>\n",
       "      <td>340.268454</td>\n",
       "      <td>89.927588</td>\n",
       "      <td>124.270745</td>\n",
       "      <td>2</td>\n",
       "      <td>Network</td>\n",
       "      <td>Unknown</td>\n",
       "      <td>DHCP</td>\n",
       "    </tr>\n",
       "    <tr>\n",
       "      <th>3</th>\n",
       "      <td>974ec5991b439c9a7176b88be0c90df0</td>\n",
       "      <td>3232266497</td>\n",
       "      <td>192.168.121.1</td>\n",
       "      <td>67</td>\n",
       "      <td>172.16.255.186</td>\n",
       "      <td>67</td>\n",
       "      <td>17</td>\n",
       "      <td>30</td>\n",
       "      <td>10086</td>\n",
       "      <td>328</td>\n",
       "      <td>...</td>\n",
       "      <td>0.000000e+00</td>\n",
       "      <td>0.000000e+00</td>\n",
       "      <td>0.000000</td>\n",
       "      <td>0.000000</td>\n",
       "      <td>0.000000</td>\n",
       "      <td>0.000000</td>\n",
       "      <td>2</td>\n",
       "      <td>Network</td>\n",
       "      <td>Unknown</td>\n",
       "      <td>DHCP</td>\n",
       "    </tr>\n",
       "    <tr>\n",
       "      <th>4</th>\n",
       "      <td>cfa7c2740072befaa89c202499729e08</td>\n",
       "      <td>3232266497</td>\n",
       "      <td>192.168.121.1</td>\n",
       "      <td>0</td>\n",
       "      <td>10.130.1.166</td>\n",
       "      <td>0</td>\n",
       "      <td>1</td>\n",
       "      <td>1</td>\n",
       "      <td>56</td>\n",
       "      <td>56</td>\n",
       "      <td>...</td>\n",
       "      <td>0.000000e+00</td>\n",
       "      <td>0.000000e+00</td>\n",
       "      <td>0.000000</td>\n",
       "      <td>0.000000</td>\n",
       "      <td>0.000000</td>\n",
       "      <td>0.000000</td>\n",
       "      <td>2</td>\n",
       "      <td>Network</td>\n",
       "      <td>Unknown</td>\n",
       "      <td>ICMP</td>\n",
       "    </tr>\n",
       "  </tbody>\n",
       "</table>\n",
       "<p>5 rows × 50 columns</p>\n",
       "</div>"
      ],
      "text/plain": [
       "                           flow_key  src_ip_numeric         src_ip  src_port  \\\n",
       "0  3acee4f4ea001cd5e6d9584d4036b53d      3232266497  192.168.121.1        67   \n",
       "1  974ec5991b439c9a7176b88be0c90df0      3232266497  192.168.121.1        67   \n",
       "2  3acee4f4ea001cd5e6d9584d4036b53d      3232266497  192.168.121.1        67   \n",
       "3  974ec5991b439c9a7176b88be0c90df0      3232266497  192.168.121.1        67   \n",
       "4  cfa7c2740072befaa89c202499729e08      3232266497  192.168.121.1         0   \n",
       "\n",
       "           dst_ip  dst_port  proto  pktTotalCount  octetTotalCount  min_ps  \\\n",
       "0  172.16.255.185        67     17             22             7620     328   \n",
       "1  172.16.255.186        67     17             17             5670     328   \n",
       "2  172.16.255.185        67     17             43            15124     328   \n",
       "3  172.16.255.186        67     17             30            10086     328   \n",
       "4    10.130.1.166         0      1              1               56      56   \n",
       "\n",
       "   ...     b_flowEnd  b_flowDuration  b_min_piat  b_max_piat  b_avg_piat  \\\n",
       "0  ...  1.555955e+09    1.554399e+12    0.010354  198.657965   51.689181   \n",
       "1  ...  0.000000e+00    0.000000e+00    0.000000    0.000000    0.000000   \n",
       "2  ...  1.555965e+09    1.554409e+12    0.022332  340.268454   89.927588   \n",
       "3  ...  0.000000e+00    0.000000e+00    0.000000    0.000000    0.000000   \n",
       "4  ...  0.000000e+00    0.000000e+00    0.000000    0.000000    0.000000   \n",
       "\n",
       "   b_std_dev_piat  flowEndReason  category  application_protocol  web_service  \n",
       "0       84.916348              2   Network               Unknown         DHCP  \n",
       "1        0.000000              2   Network               Unknown         DHCP  \n",
       "2      124.270745              2   Network               Unknown         DHCP  \n",
       "3        0.000000              2   Network               Unknown         DHCP  \n",
       "4        0.000000              2   Network               Unknown         ICMP  \n",
       "\n",
       "[5 rows x 50 columns]"
      ]
     },
     "execution_count": 3,
     "metadata": {},
     "output_type": "execute_result"
    }
   ],
   "source": [
    "df.head(5)"
   ]
  },
  {
   "cell_type": "code",
   "execution_count": 4,
   "id": "0d6a9c0b",
   "metadata": {},
   "outputs": [
    {
     "name": "stdout",
     "output_type": "stream",
     "text": [
      "716\n",
      "104463\n"
     ]
    }
   ],
   "source": [
    "print(len(df['src_ip'].unique()))\n",
    "print(len(df['dst_ip'].unique()))"
   ]
  },
  {
   "cell_type": "code",
   "execution_count": 15,
   "id": "41867780",
   "metadata": {},
   "outputs": [
    {
     "name": "stdout",
     "output_type": "stream",
     "text": [
      "(716,)\n",
      "0       192.168.121.1\n",
      "15      192.168.121.2\n",
      "167     192.168.121.3\n",
      "873     192.168.121.4\n",
      "2397    192.168.121.7\n",
      "Name: src_ip, dtype: object\n"
     ]
    }
   ],
   "source": [
    "src_ip_df = df['src_ip'].copy()\n",
    "src_ip_df = src_ip_df.dropna().copy()\n",
    "src_ip_df=src_ip_df.drop_duplicates()\n",
    "\n",
    "print(src_ip_df.shape)\n",
    "print(src_ip_df.head(5))"
   ]
  },
  {
   "cell_type": "code",
   "execution_count": 16,
   "id": "326942fe",
   "metadata": {},
   "outputs": [
    {
     "name": "stdout",
     "output_type": "stream",
     "text": [
      "(716, 1)\n",
      "             src_ip\n",
      "0     192.168.121.1\n",
      "15    192.168.121.2\n",
      "167   192.168.121.3\n",
      "873   192.168.121.4\n",
      "2397  192.168.121.7\n"
     ]
    }
   ],
   "source": [
    "src_ip_df = src_ip_df.to_frame(name='src_ip')\n",
    "\n",
    "print(src_ip_df.shape)\n",
    "print(src_ip_df.head(5))"
   ]
  },
  {
   "cell_type": "code",
   "execution_count": 17,
   "id": "5a851203",
   "metadata": {},
   "outputs": [
    {
     "name": "stdout",
     "output_type": "stream",
     "text": [
      "             src_ip oct1 oct2 oct3 oct4\n",
      "0     192.168.121.1  192  168  121    1\n",
      "15    192.168.121.2  192  168  121    2\n",
      "167   192.168.121.3  192  168  121    3\n",
      "873   192.168.121.4  192  168  121    4\n",
      "2397  192.168.121.7  192  168  121    7\n"
     ]
    }
   ],
   "source": [
    "src_ip_df.loc[:, 'oct1'] = src_ip_df['src_ip'].apply(lambda x: x.split(\".\")[0])\n",
    "src_ip_df.loc[:, 'oct2'] = src_ip_df['src_ip'].apply(lambda x: x.split(\".\")[1])\n",
    "src_ip_df.loc[:, 'oct3'] = src_ip_df['src_ip'].apply(lambda x: x.split(\".\")[2])\n",
    "src_ip_df.loc[:, 'oct4'] = src_ip_df['src_ip'].apply(lambda x: x.split(\".\")[3])\n",
    "\n",
    "print(src_ip_df.head(5))"
   ]
  },
  {
   "cell_type": "code",
   "execution_count": 18,
   "id": "477af2e0",
   "metadata": {},
   "outputs": [
    {
     "name": "stdout",
     "output_type": "stream",
     "text": [
      "<class 'pandas.core.frame.DataFrame'>\n",
      "Int64Index: 716 entries, 0 to 2637498\n",
      "Data columns (total 5 columns):\n",
      " #   Column  Non-Null Count  Dtype \n",
      "---  ------  --------------  ----- \n",
      " 0   src_ip  716 non-null    object\n",
      " 1   oct1    716 non-null    object\n",
      " 2   oct2    716 non-null    object\n",
      " 3   oct3    716 non-null    object\n",
      " 4   oct4    716 non-null    object\n",
      "dtypes: object(5)\n",
      "memory usage: 33.6+ KB\n"
     ]
    }
   ],
   "source": [
    "src_ip_df.info()"
   ]
  },
  {
   "cell_type": "code",
   "execution_count": 19,
   "id": "f59393a0",
   "metadata": {},
   "outputs": [
    {
     "name": "stdout",
     "output_type": "stream",
     "text": [
      "(716, 4)\n",
      "[['192' '168' '121' '1']\n",
      " ['192' '168' '121' '2']\n",
      " ['192' '168' '121' '3']\n",
      " ['192' '168' '121' '4']\n",
      " ['192' '168' '121' '7']]\n",
      "\n"
     ]
    }
   ],
   "source": [
    "X_matrix_src = np.array(src_ip_df[['oct1', 'oct2', 'oct3', 'oct4']])\n",
    "print(X_matrix_src.shape)\n",
    "print(X_matrix_src[0:5])\n",
    "print()"
   ]
  },
  {
   "cell_type": "code",
   "execution_count": 20,
   "id": "bab7b939",
   "metadata": {},
   "outputs": [
    {
     "name": "stdout",
     "output_type": "stream",
     "text": [
      "[9.98311121e-01 1.68887888e-03 6.33919894e-34 0.00000000e+00]\n"
     ]
    }
   ],
   "source": [
    "pcas = PCA(n_components=4)\n",
    "pcas.fit(X_matrix_src)\n",
    "print(pcas.explained_variance_ratio_)"
   ]
  },
  {
   "cell_type": "code",
   "execution_count": null,
   "id": "749b8803",
   "metadata": {},
   "outputs": [],
   "source": [
    "# размерность можно смело уменьшать\n",
    "# 1-й компонент объясняет 99,8% изменчивости\n",
    "# 1-й и 2-й компонент объясняют вместе 99% изменичивости\n"
   ]
  },
  {
   "cell_type": "code",
   "execution_count": 21,
   "id": "d6aa89c9",
   "metadata": {},
   "outputs": [
    {
     "name": "stdout",
     "output_type": "stream",
     "text": [
      "716\n",
      "716\n",
      "(716, 2)\n"
     ]
    }
   ],
   "source": [
    "pca_src = PCA(n_components=2)\n",
    "pcas = pca_src.fit_transform(X_matrix_src)\n",
    "\n",
    "pcas1=[]\n",
    "pcas2=[]\n",
    "\n",
    "#source\n",
    "for i in pcas:\n",
    "    pcas1.append(i[0])\n",
    "    pcas2.append(i[1])\n",
    "    \n",
    "print(len(pcas1))\n",
    "print(len(pcas2))\n",
    "print(pcas.shape)"
   ]
  },
  {
   "cell_type": "code",
   "execution_count": 22,
   "id": "a986e77e",
   "metadata": {},
   "outputs": [
    {
     "name": "stdout",
     "output_type": "stream",
     "text": [
      "(716, 7)\n",
      "             src_ip oct1 oct2 oct3 oct4       pca1      pca2\n",
      "0     192.168.121.1  192  168  121    1 -97.857846  3.385151\n",
      "15    192.168.121.2  192  168  121    2 -96.857872  3.392334\n",
      "167   192.168.121.3  192  168  121    3 -95.857898  3.399517\n",
      "873   192.168.121.4  192  168  121    4 -94.857924  3.406700\n",
      "2397  192.168.121.7  192  168  121    7 -91.858001  3.428250\n"
     ]
    }
   ],
   "source": [
    "src_ip_df['pca1'] = pcas1\n",
    "src_ip_df['pca2'] = pcas2\n",
    "\n",
    "print(src_ip_df.shape)\n",
    "print(src_ip_df.head(5))"
   ]
  },
  {
   "cell_type": "code",
   "execution_count": 23,
   "id": "0af7604d",
   "metadata": {},
   "outputs": [
    {
     "data": {
      "image/png": "[encoded data removed]",
      "text/plain": [
       "<Figure size 1000x1000 with 1 Axes>"
      ]
     },
     "metadata": {},
     "output_type": "display_data"
    }
   ],
   "source": [
    "import matplotlib.pyplot as plt\n",
    "%matplotlib inline\n",
    "plt.rcParams[\"figure.figsize\"] = (10,10)\n",
    "plt.scatter(src_ip_df['pca1'], src_ip_df['pca2'], s=10, color='blue',label=\"All Hosts\")\n",
    "plt.legend(bbox_to_anchor=(1.005, 1), loc=2, borderaxespad=0.)\n",
    "plt.show()"
   ]
  },
  {
   "cell_type": "code",
   "execution_count": 35,
   "id": "75f20383",
   "metadata": {},
   "outputs": [
    {
     "name": "stdout",
     "output_type": "stream",
     "text": [
      "(716, 8)\n",
      "   index         src_ip oct1 oct2 oct3 oct4       pca1      pca2\n",
      "0      0  192.168.121.1  192  168  121    1 -97.857846  3.385151\n",
      "1     15  192.168.121.2  192  168  121    2 -96.857872  3.392334\n",
      "2    167  192.168.121.3  192  168  121    3 -95.857898  3.399517\n",
      "3    873  192.168.121.4  192  168  121    4 -94.857924  3.406700\n",
      "4   2397  192.168.121.7  192  168  121    7 -91.858001  3.428250\n"
     ]
    }
   ],
   "source": [
    "\n",
    "\n",
    "print(src_ip_df.shape)\n",
    "print(src_ip_df.head(5))"
   ]
  },
  {
   "cell_type": "code",
   "execution_count": 39,
   "id": "08f540c6",
   "metadata": {},
   "outputs": [],
   "source": [
    "src_ip_df1 = src_ip_df.reset_index(drop= True)\n",
    "src_ip_df1.drop('index', axis= 1 , inplace= True )\n",
    "src_ip_df1.to_csv('ips_prepared_dataset.csv', sep=';', index=False)"
   ]
  },
  {
   "cell_type": "code",
   "execution_count": null,
   "id": "d68344db",
   "metadata": {},
   "outputs": [],
   "source": []
  }
 ],
 "metadata": {
  "kernelspec": {
   "display_name": "Python 3 (ipykernel)",
   "language": "python",
   "name": "python3"
  },
  "language_info": {
   "codemirror_mode": {
    "name": "ipython",
    "version": 3
   },
   "file_extension": ".py",
   "mimetype": "text/x-python",
   "name": "python",
   "nbconvert_exporter": "python",
   "pygments_lexer": "ipython3",
   "version": "3.10.9"
  }
 },
 "nbformat": 4,
 "nbformat_minor": 5
}
