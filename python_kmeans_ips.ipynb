{
 "cells": [
  {
   "cell_type": "code",
   "execution_count": null,
   "id": "8094ff0c",
   "metadata": {},
   "outputs": [],
   "source": [
    "# подготовка датасета была осуществлена в другом ноутбуке"
   ]
  },
  {
   "cell_type": "code",
   "execution_count": 8,
   "id": "c7caa1d6",
   "metadata": {},
   "outputs": [],
   "source": [
    "import pandas as pd\n",
    "\n",
    "import numpy as np\n",
    "from scipy.spatial.distance import cdist\n",
    "from sklearn.cluster import KMeans\n",
    "\n",
    "import matplotlib as plt\n",
    "import matplotlib.pyplot as pyplot"
   ]
  },
  {
   "cell_type": "code",
   "execution_count": 4,
   "id": "cd74c7a0",
   "metadata": {},
   "outputs": [
    {
     "name": "stdout",
     "output_type": "stream",
     "text": [
      "['oct1', 'oct2', 'oct3', 'oct4', 'pca1', 'pca2', 'src_ip']\n",
      "(716, 7)\n"
     ]
    }
   ],
   "source": [
    "df_file = \"ips_prepared_dataset.csv\"\n",
    "\n",
    "df = pd.read_csv(df_file, sep=';')\n",
    "\n",
    "print(sorted(df.columns))\n",
    "print(df.shape)"
   ]
  },
  {
   "cell_type": "code",
   "execution_count": 5,
   "id": "daf96f8f",
   "metadata": {},
   "outputs": [
    {
     "data": {
      "text/html": [
       "<div>\n",
       "<style scoped>\n",
       "    .dataframe tbody tr th:only-of-type {\n",
       "        vertical-align: middle;\n",
       "    }\n",
       "\n",
       "    .dataframe tbody tr th {\n",
       "        vertical-align: top;\n",
       "    }\n",
       "\n",
       "    .dataframe thead th {\n",
       "        text-align: right;\n",
       "    }\n",
       "</style>\n",
       "<table border=\"1\" class=\"dataframe\">\n",
       "  <thead>\n",
       "    <tr style=\"text-align: right;\">\n",
       "      <th></th>\n",
       "      <th>src_ip</th>\n",
       "      <th>oct1</th>\n",
       "      <th>oct2</th>\n",
       "      <th>oct3</th>\n",
       "      <th>oct4</th>\n",
       "      <th>pca1</th>\n",
       "      <th>pca2</th>\n",
       "    </tr>\n",
       "  </thead>\n",
       "  <tbody>\n",
       "    <tr>\n",
       "      <th>0</th>\n",
       "      <td>192.168.121.1</td>\n",
       "      <td>192</td>\n",
       "      <td>168</td>\n",
       "      <td>121</td>\n",
       "      <td>1</td>\n",
       "      <td>-97.857846</td>\n",
       "      <td>3.385151</td>\n",
       "    </tr>\n",
       "    <tr>\n",
       "      <th>1</th>\n",
       "      <td>192.168.121.2</td>\n",
       "      <td>192</td>\n",
       "      <td>168</td>\n",
       "      <td>121</td>\n",
       "      <td>2</td>\n",
       "      <td>-96.857872</td>\n",
       "      <td>3.392334</td>\n",
       "    </tr>\n",
       "    <tr>\n",
       "      <th>2</th>\n",
       "      <td>192.168.121.3</td>\n",
       "      <td>192</td>\n",
       "      <td>168</td>\n",
       "      <td>121</td>\n",
       "      <td>3</td>\n",
       "      <td>-95.857898</td>\n",
       "      <td>3.399517</td>\n",
       "    </tr>\n",
       "    <tr>\n",
       "      <th>3</th>\n",
       "      <td>192.168.121.4</td>\n",
       "      <td>192</td>\n",
       "      <td>168</td>\n",
       "      <td>121</td>\n",
       "      <td>4</td>\n",
       "      <td>-94.857924</td>\n",
       "      <td>3.406700</td>\n",
       "    </tr>\n",
       "    <tr>\n",
       "      <th>4</th>\n",
       "      <td>192.168.121.7</td>\n",
       "      <td>192</td>\n",
       "      <td>168</td>\n",
       "      <td>121</td>\n",
       "      <td>7</td>\n",
       "      <td>-91.858001</td>\n",
       "      <td>3.428250</td>\n",
       "    </tr>\n",
       "  </tbody>\n",
       "</table>\n",
       "</div>"
      ],
      "text/plain": [
       "          src_ip  oct1  oct2  oct3  oct4       pca1      pca2\n",
       "0  192.168.121.1   192   168   121     1 -97.857846  3.385151\n",
       "1  192.168.121.2   192   168   121     2 -96.857872  3.392334\n",
       "2  192.168.121.3   192   168   121     3 -95.857898  3.399517\n",
       "3  192.168.121.4   192   168   121     4 -94.857924  3.406700\n",
       "4  192.168.121.7   192   168   121     7 -91.858001  3.428250"
      ]
     },
     "execution_count": 5,
     "metadata": {},
     "output_type": "execute_result"
    }
   ],
   "source": [
    "df.head(5)"
   ]
  },
  {
   "cell_type": "code",
   "execution_count": 6,
   "id": "f303060f",
   "metadata": {},
   "outputs": [
    {
     "name": "stdout",
     "output_type": "stream",
     "text": [
      "<class 'pandas.core.frame.DataFrame'>\n",
      "RangeIndex: 716 entries, 0 to 715\n",
      "Data columns (total 7 columns):\n",
      " #   Column  Non-Null Count  Dtype  \n",
      "---  ------  --------------  -----  \n",
      " 0   src_ip  716 non-null    object \n",
      " 1   oct1    716 non-null    int64  \n",
      " 2   oct2    716 non-null    int64  \n",
      " 3   oct3    716 non-null    int64  \n",
      " 4   oct4    716 non-null    int64  \n",
      " 5   pca1    716 non-null    float64\n",
      " 6   pca2    716 non-null    float64\n",
      "dtypes: float64(2), int64(4), object(1)\n",
      "memory usage: 39.3+ KB\n"
     ]
    }
   ],
   "source": [
    "df.info()"
   ]
  },
  {
   "cell_type": "code",
   "execution_count": 10,
   "id": "f100b21e",
   "metadata": {},
   "outputs": [
    {
     "name": "stdout",
     "output_type": "stream",
     "text": [
      "(716, 4)\n",
      "[[192 168 121   1]\n",
      " [192 168 121   2]\n",
      " [192 168 121   3]\n",
      " [192 168 121   4]\n",
      " [192 168 121   7]]\n"
     ]
    }
   ],
   "source": [
    "X_matrix_src = np.array(df[['oct1', 'oct2', 'oct3', 'oct4']])\n",
    "print(X_matrix_src.shape)\n",
    "print(X_matrix_src[0:5])"
   ]
  },
  {
   "cell_type": "code",
   "execution_count": 11,
   "id": "fdbf6eeb",
   "metadata": {},
   "outputs": [
    {
     "name": "stderr",
     "output_type": "stream",
     "text": [
      "C:\\Users\\09581\\anaconda3\\lib\\site-packages\\sklearn\\cluster\\_kmeans.py:870: FutureWarning: The default value of `n_init` will change from 10 to 'auto' in 1.4. Set the value of `n_init` explicitly to suppress the warning\n",
      "  warnings.warn(\n",
      "C:\\Users\\09581\\anaconda3\\lib\\site-packages\\sklearn\\cluster\\_kmeans.py:1382: UserWarning: KMeans is known to have a memory leak on Windows with MKL, when there are less chunks than available threads. You can avoid it by setting the environment variable OMP_NUM_THREADS=3.\n",
      "  warnings.warn(\n",
      "C:\\Users\\09581\\anaconda3\\lib\\site-packages\\sklearn\\cluster\\_kmeans.py:870: FutureWarning: The default value of `n_init` will change from 10 to 'auto' in 1.4. Set the value of `n_init` explicitly to suppress the warning\n",
      "  warnings.warn(\n",
      "C:\\Users\\09581\\anaconda3\\lib\\site-packages\\sklearn\\cluster\\_kmeans.py:1382: UserWarning: KMeans is known to have a memory leak on Windows with MKL, when there are less chunks than available threads. You can avoid it by setting the environment variable OMP_NUM_THREADS=3.\n",
      "  warnings.warn(\n",
      "C:\\Users\\09581\\anaconda3\\lib\\site-packages\\sklearn\\cluster\\_kmeans.py:870: FutureWarning: The default value of `n_init` will change from 10 to 'auto' in 1.4. Set the value of `n_init` explicitly to suppress the warning\n",
      "  warnings.warn(\n",
      "C:\\Users\\09581\\anaconda3\\lib\\site-packages\\sklearn\\cluster\\_kmeans.py:1382: UserWarning: KMeans is known to have a memory leak on Windows with MKL, when there are less chunks than available threads. You can avoid it by setting the environment variable OMP_NUM_THREADS=3.\n",
      "  warnings.warn(\n",
      "C:\\Users\\09581\\anaconda3\\lib\\site-packages\\sklearn\\cluster\\_kmeans.py:870: FutureWarning: The default value of `n_init` will change from 10 to 'auto' in 1.4. Set the value of `n_init` explicitly to suppress the warning\n",
      "  warnings.warn(\n",
      "C:\\Users\\09581\\anaconda3\\lib\\site-packages\\sklearn\\cluster\\_kmeans.py:1382: UserWarning: KMeans is known to have a memory leak on Windows with MKL, when there are less chunks than available threads. You can avoid it by setting the environment variable OMP_NUM_THREADS=3.\n",
      "  warnings.warn(\n",
      "C:\\Users\\09581\\anaconda3\\lib\\site-packages\\sklearn\\cluster\\_kmeans.py:870: FutureWarning: The default value of `n_init` will change from 10 to 'auto' in 1.4. Set the value of `n_init` explicitly to suppress the warning\n",
      "  warnings.warn(\n",
      "C:\\Users\\09581\\anaconda3\\lib\\site-packages\\sklearn\\cluster\\_kmeans.py:1382: UserWarning: KMeans is known to have a memory leak on Windows with MKL, when there are less chunks than available threads. You can avoid it by setting the environment variable OMP_NUM_THREADS=3.\n",
      "  warnings.warn(\n",
      "C:\\Users\\09581\\anaconda3\\lib\\site-packages\\sklearn\\cluster\\_kmeans.py:870: FutureWarning: The default value of `n_init` will change from 10 to 'auto' in 1.4. Set the value of `n_init` explicitly to suppress the warning\n",
      "  warnings.warn(\n",
      "C:\\Users\\09581\\anaconda3\\lib\\site-packages\\sklearn\\cluster\\_kmeans.py:1382: UserWarning: KMeans is known to have a memory leak on Windows with MKL, when there are less chunks than available threads. You can avoid it by setting the environment variable OMP_NUM_THREADS=3.\n",
      "  warnings.warn(\n",
      "C:\\Users\\09581\\anaconda3\\lib\\site-packages\\sklearn\\cluster\\_kmeans.py:870: FutureWarning: The default value of `n_init` will change from 10 to 'auto' in 1.4. Set the value of `n_init` explicitly to suppress the warning\n",
      "  warnings.warn(\n",
      "C:\\Users\\09581\\anaconda3\\lib\\site-packages\\sklearn\\cluster\\_kmeans.py:1382: UserWarning: KMeans is known to have a memory leak on Windows with MKL, when there are less chunks than available threads. You can avoid it by setting the environment variable OMP_NUM_THREADS=3.\n",
      "  warnings.warn(\n",
      "C:\\Users\\09581\\anaconda3\\lib\\site-packages\\sklearn\\cluster\\_kmeans.py:870: FutureWarning: The default value of `n_init` will change from 10 to 'auto' in 1.4. Set the value of `n_init` explicitly to suppress the warning\n",
      "  warnings.warn(\n",
      "C:\\Users\\09581\\anaconda3\\lib\\site-packages\\sklearn\\cluster\\_kmeans.py:1382: UserWarning: KMeans is known to have a memory leak on Windows with MKL, when there are less chunks than available threads. You can avoid it by setting the environment variable OMP_NUM_THREADS=3.\n",
      "  warnings.warn(\n",
      "C:\\Users\\09581\\anaconda3\\lib\\site-packages\\sklearn\\cluster\\_kmeans.py:870: FutureWarning: The default value of `n_init` will change from 10 to 'auto' in 1.4. Set the value of `n_init` explicitly to suppress the warning\n",
      "  warnings.warn(\n",
      "C:\\Users\\09581\\anaconda3\\lib\\site-packages\\sklearn\\cluster\\_kmeans.py:1382: UserWarning: KMeans is known to have a memory leak on Windows with MKL, when there are less chunks than available threads. You can avoid it by setting the environment variable OMP_NUM_THREADS=3.\n",
      "  warnings.warn(\n"
     ]
    }
   ],
   "source": [
    "tightness = []\n",
    "possibleKs = range(1,10)\n",
    "\n",
    "for k in possibleKs:\n",
    "    km = KMeans(n_clusters=k).fit(X_matrix_src)\n",
    "    tightness.append(sum(np.min(cdist(X_matrix_src, \\\n",
    "         km.cluster_centers_, 'euclidean'), axis=1)) / X_matrix_src.shape[0])"
   ]
  },
  {
   "cell_type": "code",
   "execution_count": 12,
   "id": "66c858d9",
   "metadata": {},
   "outputs": [
    {
     "data": {
      "image/png": "[encoded data removed]",
      "text/plain": [
       "<Figure size 640x480 with 1 Axes>"
      ]
     },
     "metadata": {},
     "output_type": "display_data"
    }
   ],
   "source": [
    "pyplot.plot(possibleKs, tightness, 'bx-')\n",
    "pyplot.xlabel('Choice of K')\n",
    "pyplot.ylabel('Cluster Tightness')\n",
    "pyplot.title('Elbow Method to find Optimal K Value')\n",
    "pyplot.show()"
   ]
  },
  {
   "cell_type": "code",
   "execution_count": 15,
   "id": "860d8b5a",
   "metadata": {},
   "outputs": [],
   "source": [
    "srs_ip_df = df.copy()"
   ]
  },
  {
   "cell_type": "code",
   "execution_count": 16,
   "id": "2cb88bcd",
   "metadata": {},
   "outputs": [
    {
     "name": "stderr",
     "output_type": "stream",
     "text": [
      "C:\\Users\\09581\\anaconda3\\lib\\site-packages\\sklearn\\cluster\\_kmeans.py:1382: UserWarning: KMeans is known to have a memory leak on Windows with MKL, when there are less chunks than available threads. You can avoid it by setting the environment variable OMP_NUM_THREADS=3.\n",
      "  warnings.warn(\n"
     ]
    }
   ],
   "source": [
    "kclusters=6\n",
    "kms = KMeans(n_clusters=kclusters,n_init=200,random_state=0)\n",
    "\n",
    "kms.fit_predict(X_matrix_src)\n",
    "\n",
    "srs_ip_df['kcluster']=kms.labels_.tolist()"
   ]
  },
  {
   "cell_type": "code",
   "execution_count": 18,
   "id": "28ceb930",
   "metadata": {},
   "outputs": [
    {
     "data": {
      "text/html": [
       "<div>\n",
       "<style scoped>\n",
       "    .dataframe tbody tr th:only-of-type {\n",
       "        vertical-align: middle;\n",
       "    }\n",
       "\n",
       "    .dataframe tbody tr th {\n",
       "        vertical-align: top;\n",
       "    }\n",
       "\n",
       "    .dataframe thead th {\n",
       "        text-align: right;\n",
       "    }\n",
       "</style>\n",
       "<table border=\"1\" class=\"dataframe\">\n",
       "  <thead>\n",
       "    <tr style=\"text-align: right;\">\n",
       "      <th></th>\n",
       "      <th>src_ip</th>\n",
       "      <th>oct1</th>\n",
       "      <th>oct2</th>\n",
       "      <th>oct3</th>\n",
       "      <th>oct4</th>\n",
       "      <th>pca1</th>\n",
       "      <th>pca2</th>\n",
       "      <th>kcluster</th>\n",
       "    </tr>\n",
       "  </thead>\n",
       "  <tbody>\n",
       "    <tr>\n",
       "      <th>0</th>\n",
       "      <td>192.168.121.1</td>\n",
       "      <td>192</td>\n",
       "      <td>168</td>\n",
       "      <td>121</td>\n",
       "      <td>1</td>\n",
       "      <td>-97.857846</td>\n",
       "      <td>3.385151</td>\n",
       "      <td>3</td>\n",
       "    </tr>\n",
       "    <tr>\n",
       "      <th>1</th>\n",
       "      <td>192.168.121.2</td>\n",
       "      <td>192</td>\n",
       "      <td>168</td>\n",
       "      <td>121</td>\n",
       "      <td>2</td>\n",
       "      <td>-96.857872</td>\n",
       "      <td>3.392334</td>\n",
       "      <td>3</td>\n",
       "    </tr>\n",
       "    <tr>\n",
       "      <th>2</th>\n",
       "      <td>192.168.121.3</td>\n",
       "      <td>192</td>\n",
       "      <td>168</td>\n",
       "      <td>121</td>\n",
       "      <td>3</td>\n",
       "      <td>-95.857898</td>\n",
       "      <td>3.399517</td>\n",
       "      <td>3</td>\n",
       "    </tr>\n",
       "    <tr>\n",
       "      <th>3</th>\n",
       "      <td>192.168.121.4</td>\n",
       "      <td>192</td>\n",
       "      <td>168</td>\n",
       "      <td>121</td>\n",
       "      <td>4</td>\n",
       "      <td>-94.857924</td>\n",
       "      <td>3.406700</td>\n",
       "      <td>3</td>\n",
       "    </tr>\n",
       "    <tr>\n",
       "      <th>4</th>\n",
       "      <td>192.168.121.7</td>\n",
       "      <td>192</td>\n",
       "      <td>168</td>\n",
       "      <td>121</td>\n",
       "      <td>7</td>\n",
       "      <td>-91.858001</td>\n",
       "      <td>3.428250</td>\n",
       "      <td>3</td>\n",
       "    </tr>\n",
       "    <tr>\n",
       "      <th>...</th>\n",
       "      <td>...</td>\n",
       "      <td>...</td>\n",
       "      <td>...</td>\n",
       "      <td>...</td>\n",
       "      <td>...</td>\n",
       "      <td>...</td>\n",
       "      <td>...</td>\n",
       "      <td>...</td>\n",
       "    </tr>\n",
       "    <tr>\n",
       "      <th>711</th>\n",
       "      <td>192.168.125.130</td>\n",
       "      <td>192</td>\n",
       "      <td>168</td>\n",
       "      <td>125</td>\n",
       "      <td>130</td>\n",
       "      <td>31.167558</td>\n",
       "      <td>0.311877</td>\n",
       "      <td>5</td>\n",
       "    </tr>\n",
       "    <tr>\n",
       "      <th>712</th>\n",
       "      <td>192.168.125.245</td>\n",
       "      <td>192</td>\n",
       "      <td>168</td>\n",
       "      <td>125</td>\n",
       "      <td>245</td>\n",
       "      <td>146.164591</td>\n",
       "      <td>1.137937</td>\n",
       "      <td>4</td>\n",
       "    </tr>\n",
       "    <tr>\n",
       "      <th>713</th>\n",
       "      <td>192.168.127.2</td>\n",
       "      <td>192</td>\n",
       "      <td>168</td>\n",
       "      <td>127</td>\n",
       "      <td>2</td>\n",
       "      <td>-96.814773</td>\n",
       "      <td>-2.607511</td>\n",
       "      <td>3</td>\n",
       "    </tr>\n",
       "    <tr>\n",
       "      <th>714</th>\n",
       "      <td>192.168.127.94</td>\n",
       "      <td>192</td>\n",
       "      <td>168</td>\n",
       "      <td>127</td>\n",
       "      <td>94</td>\n",
       "      <td>-4.817147</td>\n",
       "      <td>-1.946664</td>\n",
       "      <td>2</td>\n",
       "    </tr>\n",
       "    <tr>\n",
       "      <th>715</th>\n",
       "      <td>192.168.127.95</td>\n",
       "      <td>192</td>\n",
       "      <td>168</td>\n",
       "      <td>127</td>\n",
       "      <td>95</td>\n",
       "      <td>-3.817173</td>\n",
       "      <td>-1.939480</td>\n",
       "      <td>2</td>\n",
       "    </tr>\n",
       "  </tbody>\n",
       "</table>\n",
       "<p>716 rows × 8 columns</p>\n",
       "</div>"
      ],
      "text/plain": [
       "              src_ip  oct1  oct2  oct3  oct4        pca1      pca2  kcluster\n",
       "0      192.168.121.1   192   168   121     1  -97.857846  3.385151         3\n",
       "1      192.168.121.2   192   168   121     2  -96.857872  3.392334         3\n",
       "2      192.168.121.3   192   168   121     3  -95.857898  3.399517         3\n",
       "3      192.168.121.4   192   168   121     4  -94.857924  3.406700         3\n",
       "4      192.168.121.7   192   168   121     7  -91.858001  3.428250         3\n",
       "..               ...   ...   ...   ...   ...         ...       ...       ...\n",
       "711  192.168.125.130   192   168   125   130   31.167558  0.311877         5\n",
       "712  192.168.125.245   192   168   125   245  146.164591  1.137937         4\n",
       "713    192.168.127.2   192   168   127     2  -96.814773 -2.607511         3\n",
       "714   192.168.127.94   192   168   127    94   -4.817147 -1.946664         2\n",
       "715   192.168.127.95   192   168   127    95   -3.817173 -1.939480         2\n",
       "\n",
       "[716 rows x 8 columns]"
      ]
     },
     "execution_count": 18,
     "metadata": {},
     "output_type": "execute_result"
    }
   ],
   "source": [
    "srs_ip_df"
   ]
  },
  {
   "cell_type": "code",
   "execution_count": 19,
   "id": "b75983e5",
   "metadata": {},
   "outputs": [],
   "source": [
    "dfkms0=srs_ip_df[srs_ip_df.kcluster==0]\n",
    "dfkms1=srs_ip_df[srs_ip_df.kcluster==1]\n",
    "dfkms2=srs_ip_df[srs_ip_df.kcluster==2]\n",
    "dfkms3=srs_ip_df[srs_ip_df.kcluster==3]\n",
    "dfkms4=srs_ip_df[srs_ip_df.kcluster==4]\n",
    "dfkms5=srs_ip_df[srs_ip_df.kcluster==5]\n",
    "#dfkms6=srs_ip_df[srs_ip_df.kcluster==6]"
   ]
  },
  {
   "cell_type": "code",
   "execution_count": 22,
   "id": "87c5d330",
   "metadata": {},
   "outputs": [
    {
     "data": {
      "image/png": "[encoded data removed]",
      "text/plain": [
       "<Figure size 1600x800 with 1 Axes>"
      ]
     },
     "metadata": {},
     "output_type": "display_data"
    }
   ],
   "source": [
    "plt.rcParams[\"figure.figsize\"] = (16,8)\n",
    "pyplot.scatter(dfkms0['pca1'],dfkms0['pca2'],s=10,label=\"cl 0\")\n",
    "pyplot.scatter(dfkms1['pca1'],dfkms1['pca2'],s=10,label=\"cl 1\")\n",
    "pyplot.scatter(dfkms2['pca1'],dfkms2['pca2'],s=10,label=\"cl 2\")\n",
    "pyplot.scatter(dfkms3['pca1'],dfkms3['pca2'],s=10,label=\"cl 3\")\n",
    "pyplot.scatter(dfkms4['pca1'],dfkms4['pca2'],s=10,label=\"cl 4\")\n",
    "pyplot.scatter(dfkms5['pca1'],dfkms5['pca2'],s=10,label=\"cl 5\")\n",
    "# pyplot.scatter(dfkms6['pca1'],dfkms6['pca2'],s=10,label=\"cl 6\")\n",
    "\n",
    "pyplot.show()"
   ]
  },
  {
   "cell_type": "code",
   "execution_count": null,
   "id": "bd80fce2",
   "metadata": {},
   "outputs": [],
   "source": []
  },
  {
   "cell_type": "code",
   "execution_count": null,
   "id": "f8bc9257",
   "metadata": {},
   "outputs": [],
   "source": []
  },
  {
   "cell_type": "code",
   "execution_count": null,
   "id": "eefb595d",
   "metadata": {},
   "outputs": [],
   "source": []
  },
  {
   "cell_type": "code",
   "execution_count": null,
   "id": "05391bc6",
   "metadata": {},
   "outputs": [],
   "source": []
  }
 ],
 "metadata": {
  "kernelspec": {
   "display_name": "Python 3 (ipykernel)",
   "language": "python",
   "name": "python3"
  },
  "language_info": {
   "codemirror_mode": {
    "name": "ipython",
    "version": 3
   },
   "file_extension": ".py",
   "mimetype": "text/x-python",
   "name": "python",
   "nbconvert_exporter": "python",
   "pygments_lexer": "ipython3",
   "version": "3.10.9"
  }
 },
 "nbformat": 4,
 "nbformat_minor": 5
}
